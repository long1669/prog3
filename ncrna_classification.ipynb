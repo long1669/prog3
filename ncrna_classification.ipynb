{
  "nbformat": 4,
  "nbformat_minor": 0,
  "metadata": {
    "colab": {
      "provenance": []
    },
    "kernelspec": {
      "name": "python3",
      "display_name": "Python 3"
    },
    "language_info": {
      "name": "python"
    }
  },
  "cells": [
    {
      "cell_type": "markdown",
      "source": [
        "Setup"
      ],
      "metadata": {
        "id": "Qy8VzJWIkMfc"
      }
    },
    {
      "cell_type": "code",
      "execution_count": null,
      "metadata": {
        "id": "9KJI_KPVSXJM"
      },
      "outputs": [],
      "source": [
        "import numpy as np\n",
        "import matplotlib.pyplot as plt\n",
        "from sklearn.svm import LinearSVC\n",
        "from sklearn.svm import SVC\n",
        "from sklearn.model_selection import train_test_split\n",
        "from sklearn.metrics import accuracy_score"
      ]
    },
    {
      "cell_type": "markdown",
      "source": [
        "Define functions that load and clean the dataset"
      ],
      "metadata": {
        "id": "59F_AeI_twiR"
      }
    },
    {
      "cell_type": "code",
      "source": [
        "# Load the data with missing values filled in\n",
        "def load_data(file_path):\n",
        "    labels = []\n",
        "    raw_data = []\n",
        "    clean_data = []\n",
        "\n",
        "    with open(file_path, 'r') as file:\n",
        "        for line in file:\n",
        "            # Split the line into tokens\n",
        "            tokens = line.strip().split()\n",
        "\n",
        "            # Extract the label and append it to the labels list\n",
        "            label = int(tokens[0])\n",
        "            labels.append(label)\n",
        "\n",
        "            # Extract the features and append them to the feature_vectors list\n",
        "            feature_dict = {}\n",
        "            for token in tokens[1:]:\n",
        "                index, value = token.split(\":\")\n",
        "                feature_dict[int(index)] = float(value)\n",
        "\n",
        "            # Add the features to the list\n",
        "            raw_data.append(feature_dict)\n",
        "\n",
        "        # Find the largest index\n",
        "        largest_index = max(set().union(*(d.keys() for d in raw_data)))\n",
        "\n",
        "        # Fill in missing values\n",
        "        for d in raw_data:\n",
        "            row = [d.get(i, 0) for i in range(1, largest_index+1)]\n",
        "            clean_data.append(row)\n",
        "\n",
        "    return labels, np.asarray(clean_data)\n",
        "    "
      ],
      "metadata": {
        "id": "_9DhiqzItv6v"
      },
      "execution_count": null,
      "outputs": []
    },
    {
      "cell_type": "markdown",
      "source": [
        "Train Linear SVM"
      ],
      "metadata": {
        "id": "fH7DfAI3Zgy5"
      }
    },
    {
      "cell_type": "code",
      "source": [
        "# Load datasets\n",
        "Ytrain, Xtrain = load_data(\"/content/drive/MyDrive/super_senior_year/Neural Networks/programming_3/ncrnastrain.txt\")\n",
        "Ytest, Xtest = load_data(\"/content/drive/MyDrive/super_senior_year/Neural Networks/programming_3/ncrnastest.txt\")\n",
        "# Calculate C values to search\n",
        "C_values = [2 ** i for i in range(-4, 9)]\n",
        "# Search SVMs\n",
        "accuracies = []\n",
        "for C in C_values:\n",
        "    svm = LinearSVC(C=C, random_state=42, max_iter=10000)\n",
        "    svm.fit(Xtrain, Ytrain)\n",
        "    yhat = svm.predict(Xtest)\n",
        "    accuracy = accuracy_score(Ytest, yhat)\n",
        "    accuracies.append(accuracy)\n",
        "    print(f\"C = {C}: Accuracy = {accuracy}\")\n",
        "# Plot classification accuracy with respect to C\n",
        "plt.plot(C_values, accuracies, marker='o')\n",
        "plt.xscale('log', base=2)\n",
        "plt.xlabel('C')\n",
        "plt.ylabel('Accuracy')\n",
        "plt.title('Classification Accuracy vs. C')\n",
        "plt.grid()\n",
        "plt.show()"
      ],
      "metadata": {
        "id": "PK7oI1myauHx",
        "colab": {
          "base_uri": "https://localhost:8080/",
          "height": 791
        },
        "outputId": "021f998f-fbea-4209-fa2c-05ebcd4ea1ce"
      },
      "execution_count": null,
      "outputs": [
        {
          "output_type": "stream",
          "name": "stdout",
          "text": [
            "C = 0.0625: Accuracy = 0.6833166833166833\n",
            "C = 0.125: Accuracy = 0.7672327672327672\n",
            "C = 0.25: Accuracy = 0.8541458541458542\n",
            "C = 0.5: Accuracy = 0.906093906093906\n",
            "C = 1: Accuracy = 0.9210789210789211\n",
            "C = 2: Accuracy = 0.926073926073926\n",
            "C = 4: Accuracy = 0.9340659340659341\n",
            "C = 8: Accuracy = 0.9330669330669331\n",
            "C = 16: Accuracy = 0.936063936063936\n",
            "C = 32: Accuracy = 0.936063936063936\n",
            "C = 64: Accuracy = 0.936063936063936\n"
          ]
        },
        {
          "output_type": "stream",
          "name": "stderr",
          "text": [
            "/usr/local/lib/python3.9/dist-packages/sklearn/svm/_base.py:1244: ConvergenceWarning: Liblinear failed to converge, increase the number of iterations.\n",
            "  warnings.warn(\n"
          ]
        },
        {
          "output_type": "stream",
          "name": "stdout",
          "text": [
            "C = 128: Accuracy = 0.936063936063936\n"
          ]
        },
        {
          "output_type": "stream",
          "name": "stderr",
          "text": [
            "/usr/local/lib/python3.9/dist-packages/sklearn/svm/_base.py:1244: ConvergenceWarning: Liblinear failed to converge, increase the number of iterations.\n",
            "  warnings.warn(\n"
          ]
        },
        {
          "output_type": "stream",
          "name": "stdout",
          "text": [
            "C = 256: Accuracy = 0.936063936063936\n"
          ]
        },
        {
          "output_type": "display_data",
          "data": {
            "text/plain": [
              "<Figure size 640x480 with 1 Axes>"
            ],
            "image/png": "[encoded data removed]"
          },
          "metadata": {}
        }
      ]
    },
    {
      "cell_type": "markdown",
      "source": [
        "Train RBF Kernel SVM"
      ],
      "metadata": {
        "id": "3uFgmF0mKPm9"
      }
    },
    {
      "cell_type": "code",
      "source": [
        "#Options:\n",
        "VALIDATION_SUBSETS = 5\n",
        "\n",
        "# Reload Data (Just in case)\n",
        "Ytrain, Xtrain = load_data(\"/content/drive/MyDrive/super_senior_year/Neural Networks/programming_3/ncrnastrain.txt\")\n",
        "Ytest, Xtest = load_data(\"/content/drive/MyDrive/super_senior_year/Neural Networks/programming_3/ncrnastest.txt\")\n",
        "\n",
        "# Split training set into training & validation\n",
        "Xtrain, Xval, Ytrain, Yval = train_test_split(Xtrain, Ytrain, test_size=0.5, random_state=42)\n",
        "\n",
        "# Dividing the cross-validation set into subsets\n",
        "subset_size = int(Xval.shape[0] / VALIDATION_SUBSETS)\n",
        "folds = [Xval[i:i + subset_size] for i in range(0, Xval.shape[0], subset_size)]\n",
        "\n",
        "# Parameter values\n",
        "c_values = [2 ** i for i in range(-4, 9)]\n",
        "gamma_values = [2 ** i for i in range(-4, 9)]\n",
        "results = np.zeros((len(c_values), len(gamma_values)))\n",
        "\n",
        "# Grid Search Parameters\n",
        "for c in range(len(c_values)):\n",
        "    for g in range(len(gamma_values)):\n",
        "        # 5-fold cross validation\n",
        "        accuracies = []\n",
        "        for k in range(VALIDATION_SUBSETS):\n",
        "            # Extracting validation fold\n",
        "            validation_fold = folds[k]\n",
        "            validation_labels = Ytrain[k*subset_size : (k+1)*subset_size]\n",
        "            # Extracting training folds and labels\n",
        "            training_folds = np.vstack([folds[l] for l in range(VALIDATION_SUBSETS) if l != k])\n",
        "            training_labels = np.hstack([Ytrain[l * subset_size:(l + 1) * subset_size] for l in range(VALIDATION_SUBSETS) if l != k])\n",
        "            # Training the SVM\n",
        "            clf = SVC(kernel='rbf', C=c_values[c], gamma=gamma_values[g])\n",
        "            clf.fit(training_folds, training_labels)\n",
        "            # Validation\n",
        "            yhat = clf.predict(validation_fold)\n",
        "            accuracies.append(accuracy_score(validation_labels, yhat))\n",
        "        # Average cross-validation accuracy\n",
        "        accuracy = np.mean(accuracies)\n",
        "        print(f\" C: {c}, Gamma: {g} Accuracy:{accuracy}\")\n",
        "        results[c, g] = accuracy\n",
        "\n",
        "# Finding the best C and gamma values\n",
        "best_c_idx, best_gamma_idx = np.unravel_index(np.argmax(results), results.shape)\n",
        "best_c = c_values[best_c_idx]\n",
        "best_gamma = gamma_values[best_gamma_idx]\n",
        "print(f\"Best C: {best_c}, Best gamma: {best_gamma}\")\n",
        "print(\"Cross-validation results matrix:\")\n",
        "print(results)\n",
        "# Training SVM with the best C and gamma values using the whole training set\n",
        "best_clf = SVC(kernel='rbf', C=best_c, gamma=best_gamma)\n",
        "best_clf.fit(Xtrain, Ytrain)\n",
        "# Classifying the test set and showing the classification accuracy\n",
        "yhat = best_clf.predict(Xtest)\n",
        "test_accuracy = accuracy_score(Ytest, yhat)\n",
        "print(f\"Test classification accuracy: {test_accuracy}\")\n"
      ],
      "metadata": {
        "colab": {
          "base_uri": "https://localhost:8080/"
        },
        "id": "ZLGlEJ9pKbEE",
        "outputId": "e54fb2ea-c63b-4e7c-db0d-d45bc2ad7a47"
      },
      "execution_count": null,
      "outputs": [
        {
          "output_type": "stream",
          "name": "stdout",
          "text": [
            " C: 0, Gamma: 0 Accuracy:0.671\n",
            " C: 0, Gamma: 1 Accuracy:0.671\n",
            " C: 0, Gamma: 2 Accuracy:0.671\n",
            " C: 0, Gamma: 3 Accuracy:0.671\n",
            " C: 0, Gamma: 4 Accuracy:0.671\n",
            " C: 0, Gamma: 5 Accuracy:0.671\n",
            " C: 0, Gamma: 6 Accuracy:0.671\n",
            " C: 0, Gamma: 7 Accuracy:0.671\n",
            " C: 0, Gamma: 8 Accuracy:0.671\n",
            " C: 0, Gamma: 9 Accuracy:0.671\n",
            " C: 0, Gamma: 10 Accuracy:0.671\n",
            " C: 0, Gamma: 11 Accuracy:0.671\n",
            " C: 0, Gamma: 12 Accuracy:0.671\n",
            " C: 1, Gamma: 0 Accuracy:0.671\n",
            " C: 1, Gamma: 1 Accuracy:0.671\n",
            " C: 1, Gamma: 2 Accuracy:0.671\n",
            " C: 1, Gamma: 3 Accuracy:0.671\n",
            " C: 1, Gamma: 4 Accuracy:0.671\n",
            " C: 1, Gamma: 5 Accuracy:0.671\n",
            " C: 1, Gamma: 6 Accuracy:0.671\n",
            " C: 1, Gamma: 7 Accuracy:0.671\n",
            " C: 1, Gamma: 8 Accuracy:0.671\n",
            " C: 1, Gamma: 9 Accuracy:0.671\n",
            " C: 1, Gamma: 10 Accuracy:0.671\n",
            " C: 1, Gamma: 11 Accuracy:0.671\n",
            " C: 1, Gamma: 12 Accuracy:0.671\n",
            " C: 2, Gamma: 0 Accuracy:0.671\n",
            " C: 2, Gamma: 1 Accuracy:0.671\n",
            " C: 2, Gamma: 2 Accuracy:0.671\n",
            " C: 2, Gamma: 3 Accuracy:0.671\n",
            " C: 2, Gamma: 4 Accuracy:0.671\n",
            " C: 2, Gamma: 5 Accuracy:0.671\n",
            " C: 2, Gamma: 6 Accuracy:0.671\n",
            " C: 2, Gamma: 7 Accuracy:0.671\n",
            " C: 2, Gamma: 8 Accuracy:0.671\n",
            " C: 2, Gamma: 9 Accuracy:0.671\n",
            " C: 2, Gamma: 10 Accuracy:0.671\n",
            " C: 2, Gamma: 11 Accuracy:0.671\n",
            " C: 2, Gamma: 12 Accuracy:0.671\n",
            " C: 3, Gamma: 0 Accuracy:0.671\n",
            " C: 3, Gamma: 1 Accuracy:0.671\n",
            " C: 3, Gamma: 2 Accuracy:0.671\n",
            " C: 3, Gamma: 3 Accuracy:0.671\n",
            " C: 3, Gamma: 4 Accuracy:0.671\n",
            " C: 3, Gamma: 5 Accuracy:0.671\n",
            " C: 3, Gamma: 6 Accuracy:0.671\n",
            " C: 3, Gamma: 7 Accuracy:0.671\n",
            " C: 3, Gamma: 8 Accuracy:0.671\n",
            " C: 3, Gamma: 9 Accuracy:0.671\n",
            " C: 3, Gamma: 10 Accuracy:0.669\n",
            " C: 3, Gamma: 11 Accuracy:0.6689999999999999\n",
            " C: 3, Gamma: 12 Accuracy:0.671\n",
            " C: 4, Gamma: 0 Accuracy:0.671\n",
            " C: 4, Gamma: 1 Accuracy:0.671\n",
            " C: 4, Gamma: 2 Accuracy:0.671\n",
            " C: 4, Gamma: 3 Accuracy:0.671\n",
            " C: 4, Gamma: 4 Accuracy:0.671\n",
            " C: 4, Gamma: 5 Accuracy:0.671\n",
            " C: 4, Gamma: 6 Accuracy:0.671\n",
            " C: 4, Gamma: 7 Accuracy:0.672\n",
            " C: 4, Gamma: 8 Accuracy:0.671\n",
            " C: 4, Gamma: 9 Accuracy:0.665\n",
            " C: 4, Gamma: 10 Accuracy:0.649\n",
            " C: 4, Gamma: 11 Accuracy:0.6519999999999999\n",
            " C: 4, Gamma: 12 Accuracy:0.663\n",
            " C: 5, Gamma: 0 Accuracy:0.671\n",
            " C: 5, Gamma: 1 Accuracy:0.671\n",
            " C: 5, Gamma: 2 Accuracy:0.671\n",
            " C: 5, Gamma: 3 Accuracy:0.671\n",
            " C: 5, Gamma: 4 Accuracy:0.671\n",
            " C: 5, Gamma: 5 Accuracy:0.671\n",
            " C: 5, Gamma: 6 Accuracy:0.671\n",
            " C: 5, Gamma: 7 Accuracy:0.6689999999999999\n",
            " C: 5, Gamma: 8 Accuracy:0.654\n",
            " C: 5, Gamma: 9 Accuracy:0.6380000000000001\n",
            " C: 5, Gamma: 10 Accuracy:0.629\n",
            " C: 5, Gamma: 11 Accuracy:0.6199999999999999\n",
            " C: 5, Gamma: 12 Accuracy:0.637\n",
            " C: 6, Gamma: 0 Accuracy:0.671\n",
            " C: 6, Gamma: 1 Accuracy:0.671\n",
            " C: 6, Gamma: 2 Accuracy:0.671\n",
            " C: 6, Gamma: 3 Accuracy:0.671\n",
            " C: 6, Gamma: 4 Accuracy:0.671\n",
            " C: 6, Gamma: 5 Accuracy:0.671\n",
            " C: 6, Gamma: 6 Accuracy:0.6700000000000002\n",
            " C: 6, Gamma: 7 Accuracy:0.6529999999999999\n",
            " C: 6, Gamma: 8 Accuracy:0.638\n",
            " C: 6, Gamma: 9 Accuracy:0.6130000000000001\n",
            " C: 6, Gamma: 10 Accuracy:0.608\n",
            " C: 6, Gamma: 11 Accuracy:0.616\n",
            " C: 6, Gamma: 12 Accuracy:0.6380000000000001\n",
            " C: 7, Gamma: 0 Accuracy:0.671\n",
            " C: 7, Gamma: 1 Accuracy:0.671\n",
            " C: 7, Gamma: 2 Accuracy:0.671\n",
            " C: 7, Gamma: 3 Accuracy:0.671\n",
            " C: 7, Gamma: 4 Accuracy:0.671\n",
            " C: 7, Gamma: 5 Accuracy:0.6700000000000002\n",
            " C: 7, Gamma: 6 Accuracy:0.6619999999999999\n",
            " C: 7, Gamma: 7 Accuracy:0.643\n",
            " C: 7, Gamma: 8 Accuracy:0.617\n",
            " C: 7, Gamma: 9 Accuracy:0.605\n",
            " C: 7, Gamma: 10 Accuracy:0.6060000000000001\n",
            " C: 7, Gamma: 11 Accuracy:0.612\n",
            " C: 7, Gamma: 12 Accuracy:0.636\n",
            " C: 8, Gamma: 0 Accuracy:0.671\n",
            " C: 8, Gamma: 1 Accuracy:0.671\n",
            " C: 8, Gamma: 2 Accuracy:0.671\n",
            " C: 8, Gamma: 3 Accuracy:0.671\n",
            " C: 8, Gamma: 4 Accuracy:0.671\n",
            " C: 8, Gamma: 5 Accuracy:0.6690000000000002\n",
            " C: 8, Gamma: 6 Accuracy:0.649\n",
            " C: 8, Gamma: 7 Accuracy:0.637\n",
            " C: 8, Gamma: 8 Accuracy:0.595\n",
            " C: 8, Gamma: 9 Accuracy:0.603\n",
            " C: 8, Gamma: 10 Accuracy:0.592\n",
            " C: 8, Gamma: 11 Accuracy:0.61\n",
            " C: 8, Gamma: 12 Accuracy:0.6339999999999999\n",
            " C: 9, Gamma: 0 Accuracy:0.671\n",
            " C: 9, Gamma: 1 Accuracy:0.671\n",
            " C: 9, Gamma: 2 Accuracy:0.671\n",
            " C: 9, Gamma: 3 Accuracy:0.671\n",
            " C: 9, Gamma: 4 Accuracy:0.6679999999999999\n",
            " C: 9, Gamma: 5 Accuracy:0.666\n",
            " C: 9, Gamma: 6 Accuracy:0.6439999999999999\n",
            " C: 9, Gamma: 7 Accuracy:0.615\n",
            " C: 9, Gamma: 8 Accuracy:0.601\n",
            " C: 9, Gamma: 9 Accuracy:0.596\n",
            " C: 9, Gamma: 10 Accuracy:0.5970000000000001\n",
            " C: 9, Gamma: 11 Accuracy:0.608\n",
            " C: 9, Gamma: 12 Accuracy:0.6329999999999999\n",
            " C: 10, Gamma: 0 Accuracy:0.671\n",
            " C: 10, Gamma: 1 Accuracy:0.671\n",
            " C: 10, Gamma: 2 Accuracy:0.671\n",
            " C: 10, Gamma: 3 Accuracy:0.671\n",
            " C: 10, Gamma: 4 Accuracy:0.669\n",
            " C: 10, Gamma: 5 Accuracy:0.652\n",
            " C: 10, Gamma: 6 Accuracy:0.638\n",
            " C: 10, Gamma: 7 Accuracy:0.593\n",
            " C: 10, Gamma: 8 Accuracy:0.5900000000000001\n",
            " C: 10, Gamma: 9 Accuracy:0.591\n",
            " C: 10, Gamma: 10 Accuracy:0.5980000000000001\n",
            " C: 10, Gamma: 11 Accuracy:0.611\n",
            " C: 10, Gamma: 12 Accuracy:0.6319999999999999\n",
            " C: 11, Gamma: 0 Accuracy:0.671\n",
            " C: 11, Gamma: 1 Accuracy:0.671\n",
            " C: 11, Gamma: 2 Accuracy:0.671\n",
            " C: 11, Gamma: 3 Accuracy:0.6700000000000002\n",
            " C: 11, Gamma: 4 Accuracy:0.668\n",
            " C: 11, Gamma: 5 Accuracy:0.643\n",
            " C: 11, Gamma: 6 Accuracy:0.625\n",
            " C: 11, Gamma: 7 Accuracy:0.5969999999999999\n",
            " C: 11, Gamma: 8 Accuracy:0.579\n",
            " C: 11, Gamma: 9 Accuracy:0.579\n",
            " C: 11, Gamma: 10 Accuracy:0.5970000000000001\n",
            " C: 11, Gamma: 11 Accuracy:0.608\n",
            " C: 11, Gamma: 12 Accuracy:0.6319999999999999\n",
            " C: 12, Gamma: 0 Accuracy:0.671\n",
            " C: 12, Gamma: 1 Accuracy:0.671\n",
            " C: 12, Gamma: 2 Accuracy:0.671\n",
            " C: 12, Gamma: 3 Accuracy:0.669\n",
            " C: 12, Gamma: 4 Accuracy:0.659\n",
            " C: 12, Gamma: 5 Accuracy:0.6370000000000001\n",
            " C: 12, Gamma: 6 Accuracy:0.6080000000000001\n",
            " C: 12, Gamma: 7 Accuracy:0.588\n",
            " C: 12, Gamma: 8 Accuracy:0.5790000000000001\n",
            " C: 12, Gamma: 9 Accuracy:0.5820000000000001\n",
            " C: 12, Gamma: 10 Accuracy:0.594\n",
            " C: 12, Gamma: 11 Accuracy:0.608\n",
            " C: 12, Gamma: 12 Accuracy:0.6319999999999999\n",
            "Best C: 1, Best gamma: 8\n",
            "Cross-validation results matrix:\n",
            "[[0.671 0.671 0.671 0.671 0.671 0.671 0.671 0.671 0.671 0.671 0.671 0.671\n",
            "  0.671]\n",
            " [0.671 0.671 0.671 0.671 0.671 0.671 0.671 0.671 0.671 0.671 0.671 0.671\n",
            "  0.671]\n",
            " [0.671 0.671 0.671 0.671 0.671 0.671 0.671 0.671 0.671 0.671 0.671 0.671\n",
            "  0.671]\n",
            " [0.671 0.671 0.671 0.671 0.671 0.671 0.671 0.671 0.671 0.671 0.669 0.669\n",
            "  0.671]\n",
            " [0.671 0.671 0.671 0.671 0.671 0.671 0.671 0.672 0.671 0.665 0.649 0.652\n",
            "  0.663]\n",
            " [0.671 0.671 0.671 0.671 0.671 0.671 0.671 0.669 0.654 0.638 0.629 0.62\n",
            "  0.637]\n",
            " [0.671 0.671 0.671 0.671 0.671 0.671 0.67  0.653 0.638 0.613 0.608 0.616\n",
            "  0.638]\n",
            " [0.671 0.671 0.671 0.671 0.671 0.67  0.662 0.643 0.617 0.605 0.606 0.612\n",
            "  0.636]\n",
            " [0.671 0.671 0.671 0.671 0.671 0.669 0.649 0.637 0.595 0.603 0.592 0.61\n",
            "  0.634]\n",
            " [0.671 0.671 0.671 0.671 0.668 0.666 0.644 0.615 0.601 0.596 0.597 0.608\n",
            "  0.633]\n",
            " [0.671 0.671 0.671 0.671 0.669 0.652 0.638 0.593 0.59  0.591 0.598 0.611\n",
            "  0.632]\n",
            " [0.671 0.671 0.671 0.67  0.668 0.643 0.625 0.597 0.579 0.579 0.597 0.608\n",
            "  0.632]\n",
            " [0.671 0.671 0.671 0.669 0.659 0.637 0.608 0.588 0.579 0.582 0.594 0.608\n",
            "  0.632]]\n",
            "Test classification accuracy: 0.9000999000999002\n"
          ]
        }
      ]
    }
  ]
}